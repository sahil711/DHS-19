{
 "cells": [
  {
   "cell_type": "markdown",
   "metadata": {},
   "source": [
    "### <font color=black> <font size = 5>Topics to Cover:</font>\n",
    "<font color=blue> <font size = 3>\n",
    "> 1. **What is deap**\n",
    "> 2. **Creator Module**\n",
    "> 3. **Toolbox Module**\n",
    "> 4. **Default Algos/Functions**:\n",
    "</font>\n"
   ]
  },
  {
   "cell_type": "code",
   "execution_count": 1,
   "metadata": {},
   "outputs": [],
   "source": [
    "### importing all the libraries \n",
    "import numpy as np\n",
    "from deap import creator, base, tools, algorithms"
   ]
  },
  {
   "cell_type": "markdown",
   "metadata": {},
   "source": [
    "***"
   ]
  },
  {
   "cell_type": "markdown",
   "metadata": {},
   "source": [
    "### <font color=green> <font size=6>1. What is Deap?</font>\n",
    "\n",
    "<font color=red> <font size = 3>**DEAP is a evolutionary computation framework which can be used to design/prototype your own custom GAs** \n",
    "\n",
    "**For more documentation, visit: https://deap.readthedocs.io/en/master/**\n",
    "\n",
    "**Github Link: https://github.com/DEAP/deap**\n",
    "    </font>"
   ]
  },
  {
   "cell_type": "markdown",
   "metadata": {},
   "source": [
    "### <font color=green> <font size=6>2. Creator Module</font>\n",
    "\n",
    "<font color=red> <font size = 3> **We will use this module to define our own custom classes (data types)**</font></font>\n",
    "  \n",
    "  \n",
    "<font color=red> <font size = 3> **For all the GAs we wil be building two classes, one for the fitness and other for the individual**</font></font>\n",
    "\n",
    "<font color=red> <font size = 3> **This takes in the <font color=blue>*name of the class/data type you want to define*</font>, <font color=blue>*parent class from which you want to inherit*</font> and  <font color=blue>*init arguments*</font>**</font></font>\n",
    "\n",
    "<font color=red> <font size = 3> **Please find the sample snippet below:**</font></font>\n",
    "\n"
   ]
  },
  {
   "cell_type": "code",
   "execution_count": 2,
   "metadata": {},
   "outputs": [],
   "source": [
    "## We will define a class with name Indivdual which inherits from list and has an attribute fitness\n",
    "creator.create(\"sample_class\", list, fitness=100)"
   ]
  },
  {
   "cell_type": "code",
   "execution_count": 3,
   "metadata": {},
   "outputs": [],
   "source": [
    "### let's use this data type, we will declare one indidual using this\n",
    "sample=creator.sample_class([0,0,0,1,0])"
   ]
  },
  {
   "cell_type": "code",
   "execution_count": 4,
   "metadata": {},
   "outputs": [
    {
     "data": {
      "text/plain": [
       "(100, [0, 0, 0, 1, 0, 1], None, [0, 0, 0, 1, 0, 1])"
      ]
     },
     "execution_count": 4,
     "metadata": {},
     "output_type": "execute_result"
    }
   ],
   "source": [
    "### we can see ind has an attribute of fitness and also inhertis all the methods of list class\n",
    "sample.fitness,sample,sample.append(1),sample"
   ]
  },
  {
   "cell_type": "markdown",
   "metadata": {},
   "source": [
    "<font color=green> <font size = 4> **We saw how to use creator to define custom datatypes, now we will see the two data types we will need to create our own custom GAs i.e. <font color=red>fitness and individual (which is very similar to what we defined above)</font>**</font></font>\n",
    "\n",
    "<font color=green> <font size = 4> **we will use the code in the cell below in every GA we build**"
   ]
  },
  {
   "cell_type": "code",
   "execution_count": 5,
   "metadata": {},
   "outputs": [],
   "source": [
    "### defining a fitness class which inherits from a default deap class\n",
    "### this takes a default argument of weights which is a tupple\n",
    "### different scenarios of the weiht parameter:\n",
    "### (1,)  MAXIMIZATION PROBLEM WE WANT TO MAXIMIZE THE OBJECTIVE FUNCTION\n",
    "### (-1,) MINIMIZATION PROBLEM WE WANT TO MINIMIZE THE OBJECTIVE FUNCTION\n",
    "### (1,-1) MULTIOBJECTIVE WEHRE WE WANT TO MAXIMIZE THE FIRST VALUE AND MINIMIZE THE SECOND OBJECTIVE\n",
    "\n",
    "creator.create(\"fitness\", base.Fitness, weights=(1.0,))\n",
    "### individual inherting from list and having an attribute fitness which of the the type defined above\n",
    "creator.create(\"Individual\", list, fitness=creator.fitness)"
   ]
  },
  {
   "cell_type": "code",
   "execution_count": 6,
   "metadata": {},
   "outputs": [
    {
     "data": {
      "text/plain": [
       "deap.creator.fitness(())"
      ]
     },
     "execution_count": 6,
     "metadata": {},
     "output_type": "execute_result"
    }
   ],
   "source": [
    "### example:\n",
    "ind=creator.Individual([0,0,0,1])\n",
    "ind.fitness ### this is blank and is of the class fitness defined above"
   ]
  },
  {
   "cell_type": "markdown",
   "metadata": {},
   "source": [
    "### <font color=green> <font size=6>3. Toolbox Module</font>\n",
    "\n",
    "<font color=red> <font size = 3> **Toolbox gives us the flexibility to store all the functions in one place,as the name suggests it is a toolbox with all our tools init)**</font></font>\n",
    "  \n",
    "  \n",
    "<font color=red> <font size = 3> **We will setup a toolbox and register different functions in it and call them using te toolbox**</font></font>\n",
    "\n"
   ]
  },
  {
   "cell_type": "code",
   "execution_count": 7,
   "metadata": {},
   "outputs": [],
   "source": [
    "### defining the toolbox\n",
    "toolbox=base.Toolbox()\n",
    "\n",
    "### defining the functions we want to register\n",
    "def get_max_num(a):\n",
    "    return np.max(a)\n",
    "def get_min_num(a):\n",
    "    return np.min(a)\n",
    "def get_sum(a):\n",
    "    return np.sum(a)\n",
    "def get_sum_scale(a,scale):\n",
    "    return np.sum(a)*scale\n",
    "\n",
    "\n",
    "### registering the functions in the toolbox:\n",
    "toolbox.register(alias='max_num',function=get_max_num)\n",
    "toolbox.register(alias='min_num',function=get_min_num)\n",
    "toolbox.register(alias='total',function=get_sum)\n",
    "### example of a function taking in default argument values\n",
    "toolbox.register(alias='scaled_total',function=get_sum_scale,scale=1.5) "
   ]
  },
  {
   "cell_type": "code",
   "execution_count": null,
   "metadata": {},
   "outputs": [],
   "source": []
  },
  {
   "cell_type": "code",
   "execution_count": 8,
   "metadata": {},
   "outputs": [
    {
     "data": {
      "text/plain": [
       "[55, 44, 76, 54, 16, 81, 93, 68, 57, 59]"
      ]
     },
     "execution_count": 8,
     "metadata": {},
     "output_type": "execute_result"
    }
   ],
   "source": [
    "### defining a list to perform all these opertions on\n",
    "rand_nums=np.random.randint(1,100,10).tolist()\n",
    "rand_nums"
   ]
  },
  {
   "cell_type": "code",
   "execution_count": 9,
   "metadata": {},
   "outputs": [
    {
     "data": {
      "text/plain": [
       "(93, 16, 603, 904.5)"
      ]
     },
     "execution_count": 9,
     "metadata": {},
     "output_type": "execute_result"
    }
   ],
   "source": [
    "toolbox.max_num(rand_nums),toolbox.min_num(rand_nums),toolbox.total(rand_nums),toolbox.scaled_total(rand_nums)"
   ]
  },
  {
   "cell_type": "markdown",
   "metadata": {},
   "source": [
    "<font color=red> <font size = 4> **We saw how we can setup a toolbox with different functions, in our GAs different functions we need to register are:**</font></font>\n",
    "- <font color=green> <font size = 3> **Function creating the individuals (it maybe a list,dict or any other data type)** </font></font>\n",
    "- <font color=green> <font size = 3> **Function for Crossover** </font></font>\n",
    "- <font color=green> <font size = 3> **Function for Mutation** </font></font>\n",
    "- <font color=green> <font size = 3> **Function for Selection** </font></font>    \n",
    "- <font color=green> <font size = 3> **Function for Evaluation** </font></font>      \n",
    "  \n",
    "  \n"
   ]
  },
  {
   "cell_type": "markdown",
   "metadata": {},
   "source": [
    "### <font color=green> <font size=6>4. Default Algos and Function</font>\n",
    "\n",
    "<font color=red> <font size = 3> **In this section we will cover some default functions we will be using to build our GAs**</font></font>\n",
    "  \n",
    "  \n",
    "<font color=red> <font size = 4> **Functions we will cover:**</font></font>\n",
    "- <font color=green> <font size = 3> **one point crossover (CxOnePoint)** </font></font>\n",
    "- <font color=green> <font size = 3> **Flip Bit Mutation (MutFlipBit)** </font></font>\n",
    "- <font color=green> <font size = 3> **EA SIMPLE (default evolutionary algorithm by deap)** </font></font>"
   ]
  },
  {
   "cell_type": "code",
   "execution_count": 10,
   "metadata": {},
   "outputs": [
    {
     "data": {
      "text/plain": [
       "([0, 0, 1, 1, 0], [0, 1, 0, 1, 0])"
      ]
     },
     "execution_count": 10,
     "metadata": {},
     "output_type": "execute_result"
    }
   ],
   "source": [
    "### crossover example\n",
    "toolbox.register('crossover',tools.cxOnePoint)\n",
    "\n",
    "### defining the two individuals:\n",
    "ind1=[0,1,0,1,0]\n",
    "ind2=[0,0,1,1,0]\n",
    "\n",
    "### results of crossover\n",
    "toolbox.crossover(ind1,ind2)"
   ]
  },
  {
   "cell_type": "code",
   "execution_count": 11,
   "metadata": {},
   "outputs": [
    {
     "name": "stdout",
     "output_type": "stream",
     "text": [
      "result when indpb=0.5  ([1, 1, 0, 1],)\n",
      "result when indpb=0  ([0, 1, 0, 1],)  we see no gene/element was mutated because inpb was 0\n",
      "result when indpb=1  ([1, 0, 1, 0],)  we see every gene/element was mutated because inpb was 1\n"
     ]
    }
   ],
   "source": [
    "### mutation example\n",
    "\n",
    "toolbox.register('mutation',tools.mutFlipBit)\n",
    "\n",
    "### defining the two individuals:\n",
    "ind1=[0,1,0,1]\n",
    "\n",
    "### results of crossover\n",
    "###  indpd is a default parameter of mutflipbit, controls the prob at an element/gene level for mutation\n",
    "print ('result when indpb=0.5 ',toolbox.mutation(ind1,indpb=0.5) ) \n",
    "\n",
    "ind1=[0,1,0,1]\n",
    "print ('result when indpb=0 ',toolbox.mutation(ind1,indpb=0) ,' we see no gene/element was mutated because inpb was 0')\n",
    "\n",
    "ind1=[0,1,0,1]\n",
    "print ('result when indpb=1 ',toolbox.mutation(ind1,indpb=1),' we see every gene/element was mutated because inpb was 1')  \n"
   ]
  },
  {
   "cell_type": "markdown",
   "metadata": {},
   "source": [
    "<font color=red> <font size = 3> **Pseudo code of the EA simple:**</font></font>\n",
    "\n",
    "evaluate(population)\n",
    " \n",
    "for g\n",
    "in range(ngen):\n",
    "\n",
    "    population = select(population, len(population))\n",
    "\n",
    "    offspring = CrossOVer(population, cxpb) and Mutation (population, mutpb)\n",
    "\n",
    "    evaluate(offspring)\n",
    "\n",
    "    population = offspring"
   ]
  }
 ],
 "metadata": {
  "kernelspec": {
   "display_name": "Python 3",
   "language": "python",
   "name": "python3"
  },
  "language_info": {
   "codemirror_mode": {
    "name": "ipython",
    "version": 3
   },
   "file_extension": ".py",
   "mimetype": "text/x-python",
   "name": "python",
   "nbconvert_exporter": "python",
   "pygments_lexer": "ipython3",
   "version": "3.6.8"
  }
 },
 "nbformat": 4,
 "nbformat_minor": 2
}
